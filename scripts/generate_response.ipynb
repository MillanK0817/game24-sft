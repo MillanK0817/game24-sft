{
 "cells": [
  {
   "cell_type": "code",
   "execution_count": null,
   "metadata": {},
   "outputs": [],
   "source": [
    "from transformers import AutoModelForCausalLM, AutoTokenizer\n",
    "\n",
    "\n",
    "model_name = \"./LLaMA-Factory/saves/Qwen2.5-1.5B-Instruct/full/qwen2.5_model_cot_20241230\"\n",
    "model = AutoModelForCausalLM.from_pretrained(\n",
    "    model_name,\n",
    "    device_map=\"auto\",\n",
    "    torch_dtype=\"auto\",\n",
    "    attn_implementation=\"flash_attention_2\",\n",
    ")\n",
    "tokenizer = AutoTokenizer.from_pretrained(model_name)"
   ]
  },
  {
   "cell_type": "code",
   "execution_count": null,
   "metadata": {},
   "outputs": [],
   "source": [
    "SYSTEM_PROMPT = \"\\nYou are a 24 Game assistant. Given 4 numbers (range 1-13), you need to use basic arithmetic operations (+, -, *, /) to combine these numbers to get 24.\\n\\n**Rules:**\\n1. You MUST USE all 4 given numbers EXACTLY ONCE, even if numbers are REPEATED.\\n   - For example, if the input is 4, 4, 5, 6, you must use 4, 4, 5, 6 exactly once.\\n   - If the equation is equal to 24 but does not use all 4 numbers exactly once, it is invalid and SHOULD NOT be considered as a solution.\\n   - You CANNOT use other numbers except for the 4 given numbers.\\n2. Only these operators are allowed: addition(+), subtraction(-), multiplication(*), division(/)\\n3. Parentheses can be used to change operation precedence\\n5. The result must equal exactly 24, or be approximately 24 within calculation error (e.g., 23.9999...)\\n\\n**Output Requirements:**\\n\\nPlease reason step by step, show your reasoning process and put your final answer within \\\\boxed{}. DONOT use LaTeX expression in the final answer.\\n\""
   ]
  },
  {
   "cell_type": "code",
   "execution_count": null,
   "metadata": {},
   "outputs": [],
   "source": [
    "def generate_response(prompt: str, model, tokenizer) -> str:\n",
    "\n",
    "    messages = [\n",
    "        {\"role\": \"system\", \"content\": SYSTEM_PROMPT},\n",
    "        {\"role\": \"user\", \"content\": prompt},\n",
    "    ]\n",
    "    \n",
    "    text = tokenizer.apply_chat_template(\n",
    "        messages,\n",
    "        tokenize=False,\n",
    "        add_generation_prompt=True,\n",
    "    )\n",
    "    \n",
    "    model_inputs = tokenizer([text], return_tensors=\"pt\").to(model.device)\n",
    "    \n",
    "    generated_ids = model.generate(\n",
    "        **model_inputs,\n",
    "        max_new_tokens=4096,\n",
    "        do_sample=False,\n",
    "        early_stopping=True,\n",
    "    )\n",
    "    \n",
    "    generated_ids = [\n",
    "        output_ids[len(input_ids):] for input_ids, output_ids in zip(model_inputs.input_ids, generated_ids)\n",
    "    ]\n",
    "    \n",
    "    response = tokenizer.batch_decode(generated_ids, skip_special_tokens=True)[0]\n",
    "\n",
    "    return response"
   ]
  },
  {
   "cell_type": "code",
   "execution_count": null,
   "metadata": {},
   "outputs": [],
   "source": [
    "import pandas as pd\n",
    "\n",
    "test_df = pd.read_csv(\"data/test_df.csv\")\n",
    "\n",
    "test_puzzles = [\", \".join(puzzle.split()) for puzzle in test_df[\"Puzzles\"].tolist()]"
   ]
  },
  {
   "cell_type": "code",
   "execution_count": null,
   "metadata": {},
   "outputs": [],
   "source": [
    "import json\n",
    "\n",
    "output_folder = \"eval/responses.jsonl\"\n",
    "\n",
    "prompt = \"Solve the 24 Game using numbers{numbers}\"\n",
    "\n",
    "with open(output_folder, \"w\") as f:\n",
    "    for puzzle in test_puzzles:\n",
    "        response = generate_response(prompt.format(numbers=puzzle), model, tokenizer)\n",
    "        f.write(json.dumps({\"puzzle\": puzzle, \"response\": response}) + \"\\n\")"
   ]
  }
 ],
 "metadata": {
  "language_info": {
   "name": "python"
  }
 },
 "nbformat": 4,
 "nbformat_minor": 2
}
